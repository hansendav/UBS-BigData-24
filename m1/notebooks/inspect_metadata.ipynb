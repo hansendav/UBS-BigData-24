{
 "cells": [
  {
   "cell_type": "markdown",
   "metadata": {},
   "source": [
    "# Dataset exploration using custom meta_data.parquet"
   ]
  },
  {
   "cell_type": "code",
   "execution_count": 1,
   "metadata": {},
   "outputs": [],
   "source": [
    "import pyarrow.fs as fs \n",
    "import pandas as pd \n",
    "import pyarrow.parquet as pq "
   ]
  },
  {
   "cell_type": "code",
   "execution_count": 2,
   "metadata": {},
   "outputs": [],
   "source": [
    "meta =  pq.read_table('s3://ubs-cde/home/e2405193/bigdata/meta_with_image_paths.parquet')\n",
    "meta = meta.to_pandas()"
   ]
  },
  {
   "cell_type": "code",
   "execution_count": 3,
   "metadata": {},
   "outputs": [
    {
     "name": "stdout",
     "output_type": "stream",
     "text": [
      "<class 'pandas.core.frame.DataFrame'>\n",
      "RangeIndex: 480038 entries, 0 to 480037\n",
      "Data columns (total 13 columns):\n",
      " #   Column                    Non-Null Count   Dtype \n",
      "---  ------                    --------------   ----- \n",
      " 0   patch_id                  480038 non-null  object\n",
      " 1   labels                    480038 non-null  object\n",
      " 2   split                     480038 non-null  object\n",
      " 3   country                   480038 non-null  object\n",
      " 4   s1_name                   480038 non-null  object\n",
      " 5   s2v1_name                 480038 non-null  object\n",
      " 6   contains_seasonal_snow    480038 non-null  bool  \n",
      " 7   contains_cloud_or_shadow  480038 non-null  bool  \n",
      " 8   patch_id_path             480038 non-null  object\n",
      " 9   patch_id_path_s1          480038 non-null  object\n",
      " 10  s1_path                   480038 non-null  object\n",
      " 11  s2_path                   480038 non-null  object\n",
      " 12  label_path                480038 non-null  object\n",
      "dtypes: bool(2), object(11)\n",
      "memory usage: 41.2+ MB\n"
     ]
    }
   ],
   "source": [
    "meta.info()"
   ]
  },
  {
   "cell_type": "code",
   "execution_count": 7,
   "metadata": {},
   "outputs": [
    {
     "data": {
      "text/plain": [
       "split\n",
       "train         0.50\n",
       "validation    0.25\n",
       "test          0.25\n",
       "Name: proportion, dtype: float64"
      ]
     },
     "execution_count": 7,
     "metadata": {},
     "output_type": "execute_result"
    }
   ],
   "source": [
    "meta.value_counts('split', normalize=True).round(2)"
   ]
  },
  {
   "cell_type": "markdown",
   "metadata": {},
   "source": [
    "The dataset is split into train, validation and test with the ratio [0.5, 0.25, 0.25]."
   ]
  },
  {
   "cell_type": "code",
   "execution_count": null,
   "metadata": {},
   "outputs": [
    {
     "data": {
      "text/plain": [
       "<pandas.core.groupby.generic.SeriesGroupBy object at 0x7fe7726c67e0>"
      ]
     },
     "execution_count": 11,
     "metadata": {},
     "output_type": "execute_result"
    }
   ],
   "source": [
    "meta.groupby('split')['labels'].count"
   ]
  },
  {
   "cell_type": "code",
   "execution_count": null,
   "metadata": {},
   "outputs": [],
   "source": []
  }
 ],
 "metadata": {
  "kernelspec": {
   "display_name": "bigdata_pyspark",
   "language": "python",
   "name": "python3"
  },
  "language_info": {
   "codemirror_mode": {
    "name": "ipython",
    "version": 3
   },
   "file_extension": ".py",
   "mimetype": "text/x-python",
   "name": "python",
   "nbconvert_exporter": "python",
   "pygments_lexer": "ipython3",
   "version": "3.12.7"
  }
 },
 "nbformat": 4,
 "nbformat_minor": 2
}
